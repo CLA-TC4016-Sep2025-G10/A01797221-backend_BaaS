{
 "cells": [
  {
   "cell_type": "markdown",
   "id": "f9dec014",
   "metadata": {},
   "source": [
    "INSTITUTO TECNOLOGICO DE ESTUDIOS SUPERIORES DE MONTERREY\n",
    "\n",
    "Maestria en Inteligencia Artificial Aplicada \n",
    "\n",
    "Jose Angel Barajas Flores A01797221@tec.mx\n"
   ]
  },
  {
   "cell_type": "markdown",
   "id": "b429d16b",
   "metadata": {},
   "source": [
    "SIAVL_BaaS. Pruebas de conexion del proyecto SIAVL a la Table \"usuarios\" en backend as a service BackEndless. \n",
    "\n",
    "1. Permisos de acceso / HEADERS."
   ]
  },
  {
   "cell_type": "code",
   "execution_count": 2,
   "id": "16749aec",
   "metadata": {},
   "outputs": [],
   "source": [
    "import requests\n",
    "# Backendless credentials\n",
    "APP_ID = \"654D7877-3099-42DA-B184-B8185F675FF6\"\n",
    "REST_KEY = \"28490A8A-426F-421B-9CE0-9F95E4C25670\"\n",
    "BASE_URL = \"https://swankcabbage-us.backendless.app/api/data/usuarios\"\n",
    "HEADERS = {\n",
    "    \"application-id\": APP_ID,\n",
    "    \"secret-key\": REST_KEY,\n",
    "    \"Content-Type\": \"application/json\",\n",
    "    \"application-type\": \"REST\"\n",
    "}\n"
   ]
  },
  {
   "cell_type": "markdown",
   "id": "b5b6b1b8",
   "metadata": {},
   "source": [
    "2. Generacion de fucniones de CRUD"
   ]
  },
  {
   "cell_type": "code",
   "execution_count": 3,
   "id": "25d3a05a",
   "metadata": {},
   "outputs": [],
   "source": [
    "import json\n",
    "#CREATE/POST\n",
    "def create_user(id_usuarios, nombre, correo, rol, contrasena_hash, activo=True):\n",
    "    data = {\n",
    "        \"id_usuarios\": id_usuarios,\n",
    "        \"nombre\": nombre,\n",
    "        \"correo\": correo,\n",
    "        \"rol\": rol,\n",
    "        \"contrasena_hash\": contrasena_hash,\n",
    "        \"activo\": activo\n",
    "    }\n",
    "    response = requests.post(BASE_URL, headers=HEADERS, json=data)\n",
    "    print(\"CREATE →\", response.status_code)\n",
    "    print(response.json())\n",
    "#GET\n",
    "def get_users(limit=100):\n",
    "    \"\"\"Retrieve up to 'limit' users from Backendless.\"\"\"\n",
    "    params = {\"pageSize\": limit}\n",
    "    r = requests.get(BASE_URL, headers=HEADERS, params=params)\n",
    "    data = r.json()\n",
    "    print(f\"GET → {r.status_code} | Retrieved: {len(data)} records\")\n",
    "    for u in data:\n",
    "        print(f\"{u['nombre']} | {u['rol']} | ID: {u['objectId']}\")\n",
    "\n",
    "#UPDATE/PUT\n",
    "def update_user(object_id, updates):\n",
    "    url = f\"{BASE_URL}/{object_id}\"\n",
    "    response = requests.put(url, headers=HEADERS, json=updates)\n",
    "    print(\"UPDATE →\", response.status_code)\n",
    "    print(response.json())\n",
    "\n",
    "#DELETE\n",
    "def delete_user(object_id):\n",
    "    url = f\"{BASE_URL}/{object_id}\"\n",
    "    response = requests.delete(url, headers=HEADERS)\n",
    "    print(\"DELETE →\", response.status_code)\n",
    "    print(response.text)\n"
   ]
  },
  {
   "cell_type": "markdown",
   "id": "adee7be8",
   "metadata": {},
   "source": [
    "3. Prueba POST / CREATE"
   ]
  },
  {
   "cell_type": "code",
   "execution_count": 4,
   "id": "d5522915",
   "metadata": {},
   "outputs": [
    {
     "name": "stdout",
     "output_type": "stream",
     "text": [
      "CREATE → 200\n",
      "{'id_usuarios': 'U051', 'created': 1761534709797, 'correo': 'maria.lopez@tec.com', 'contrasena_hash': 'hash001', '___class': 'usuarios', 'ownerId': None, 'updated': None, 'nombre': 'Maria Lopez', 'objectId': 'F56206FD-4FF0-4A53-AFED-FDEE765B7BB6', 'rol': 'qa', 'activo': True}\n"
     ]
    }
   ],
   "source": [
    "# Create\n",
    "create_user(\"U051\", \"Maria Lopez\", \"maria.lopez@tec.com\", \"qa\", \"hash001\")"
   ]
  },
  {
   "cell_type": "markdown",
   "id": "604eaf5b",
   "metadata": {},
   "source": [
    "4. Prueba GET"
   ]
  },
  {
   "cell_type": "code",
   "execution_count": 5,
   "id": "b8273962",
   "metadata": {},
   "outputs": [
    {
     "name": "stdout",
     "output_type": "stream",
     "text": [
      "GET → 200 | Retrieved: 29 records\n",
      "Maria Lopez | qa | ID: 0D40FC69-A44F-4ED0-A58E-2278AE920C05\n",
      "Maria Lopez | qa | ID: 0FFEFCDA-41C9-40F2-A18D-709359D47CE3\n",
      "Linda Flores | admin | ID: 19656437-BC0A-4EC0-8605-78933156FCA6\n",
      "None | None | ID: 342D19F4-295B-472B-BE13-071FC37CB40B\n",
      "Maria Lopez | qa | ID: 3C60DD70-3D9E-48CD-84A8-990644C6B973\n",
      "Jose Barajas | admin | ID: 4340CD70-508F-40E8-951F-177984C892DF\n",
      "None | None | ID: 4444A6E8-3FB0-4E5F-9172-46B7E9F650AA\n",
      "Jose Barajas | admin | ID: 45D2010A-75F0-42FD-A723-D525C5484052\n",
      "Pedro Pablo Barajas | admin | ID: 48D7D58B-9C04-4FE0-B885-077F450D6FD3\n",
      "Maria Lopez | qa | ID: 530FE138-B26D-4A6A-8527-8B6C41590451\n",
      "Pedro Pablo Barajas | admin | ID: 5FA8BAC7-D80D-4C57-B58C-3FF295F31629\n",
      "Maria Lopez | qa | ID: 64B5C41F-601D-4CBB-8967-B6F3F94C24ED\n",
      "Jose Barajas | admin | ID: 7E191FAB-0FBB-4623-8A2A-758AE69840CC\n",
      "Jose Barajas | admin | ID: 835A16EB-C815-4CFD-B19D-CAB90DF7C211\n",
      "Maria Lopez | qa | ID: 8E4D1BCD-F80B-4291-99DB-D2640295F36A\n",
      "None | None | ID: B1BFE5EC-7068-4470-A136-5B1E43D60348\n",
      "None | None | ID: B888B764-7F1C-4D36-8E5F-A828850F1B0D\n",
      "Jose Barajas | admin | ID: C02FC95F-271F-47EE-BA5E-A79DA051A966\n",
      "Carlos Rivera | tecnico | ID: C3536C64-AC89-42A1-90E5-BE2FC46DC479\n",
      "Jose Barajas | admin | ID: D61D5AC4-EDE1-4B77-8B8F-B19CDE008022\n",
      "Maria Lopez | qa | ID: D677B625-6A7B-48FA-8ACC-78F3BA488ED5\n",
      "Maria Lopez | qa | ID: D7354C95-5859-4189-B545-06DF536ACCF1\n",
      "Maria Lopez | qa | ID: DE6F073F-2E6D-46DA-9CEE-01983D56F70F\n",
      "Maria Lopez | qa | ID: E44860D2-FF2F-4E88-9BEA-65AC6D6D29AF\n",
      "Karlos Rivera | tecnico | ID: E6344A14-8F4E-4841-97DF-7081120F0215\n",
      "None | None | ID: ECE9DCA2-509E-4CC2-BE68-3DF0DEBB7BE1\n",
      "Maria Lopez | basic | ID: F1F34483-FDC3-4075-804E-42FB5FB1F206\n",
      "Maria Lopez | qa | ID: F56206FD-4FF0-4A53-AFED-FDEE765B7BB6\n",
      "Maria Lopez | qa | ID: FAB5DDF8-5B0F-43F8-AC07-BABAFE333C8C\n"
     ]
    }
   ],
   "source": [
    "#Read\n",
    "get_users(50)\n"
   ]
  },
  {
   "cell_type": "markdown",
   "id": "5798f32f",
   "metadata": {},
   "source": [
    "5. Para las siguientes pruebas utilizamos un ObjectID fijo. "
   ]
  },
  {
   "cell_type": "code",
   "execution_count": 6,
   "id": "80c64949",
   "metadata": {},
   "outputs": [],
   "source": [
    "test_object_id = \"F1F34483-FDC3-4075-804E-42FB5FB1F206\""
   ]
  },
  {
   "cell_type": "markdown",
   "id": "80f71748",
   "metadata": {},
   "source": [
    "6. Prueba UPDATE / PUT"
   ]
  },
  {
   "cell_type": "code",
   "execution_count": 7,
   "id": "e5085dd2",
   "metadata": {},
   "outputs": [
    {
     "name": "stdout",
     "output_type": "stream",
     "text": [
      "UPDATE → 200\n",
      "{'id_usuarios': 'U044', 'created': 1761524815085, 'correo': 'maria.admin@gmail.com', 'contrasena_hash': 'hash001', '___class': 'usuarios', 'ownerId': None, 'updated': 1761534732796, 'nombre': 'Maria Lopez', 'objectId': 'F1F34483-FDC3-4075-804E-42FB5FB1F206', 'rol': 'basic', 'activo': True}\n"
     ]
    }
   ],
   "source": [
    "#Update\n",
    "update_user(test_object_id, {\"rol\": \"basic\", \"correo\": \"maria.admin@gmail.com\"})\n"
   ]
  },
  {
   "cell_type": "markdown",
   "id": "64ce874e",
   "metadata": {},
   "source": [
    "7. Pruba DELETE"
   ]
  },
  {
   "cell_type": "code",
   "execution_count": 8,
   "id": "bbb57ca6",
   "metadata": {},
   "outputs": [
    {
     "name": "stdout",
     "output_type": "stream",
     "text": [
      "DELETE → 200\n",
      "{\"deletionTime\":1761534738598}\n"
     ]
    }
   ],
   "source": [
    "#Delete\n",
    "delete_user(test_object_id)\n"
   ]
  }
 ],
 "metadata": {
  "kernelspec": {
   "display_name": "venv",
   "language": "python",
   "name": "python3"
  },
  "language_info": {
   "codemirror_mode": {
    "name": "ipython",
    "version": 3
   },
   "file_extension": ".py",
   "mimetype": "text/x-python",
   "name": "python",
   "nbconvert_exporter": "python",
   "pygments_lexer": "ipython3",
   "version": "3.12.1"
  }
 },
 "nbformat": 4,
 "nbformat_minor": 5
}
